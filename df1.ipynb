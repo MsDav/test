{
 "cells": [
  {
   "cell_type": "code",
   "execution_count": null,
   "id": "7d2a9db2",
   "metadata": {},
   "outputs": [],
   "source": [
    "import os\n",
    "import shutil"
   ]
  },
  {
   "cell_type": "code",
   "execution_count": 1,
   "id": "28a57816",
   "metadata": {},
   "outputs": [],
   "source": [
    "def main_menu()->str:\n",
    "    \"\"\"\n",
    "    the function is main\n",
    "    return str\n",
    "    \"\"\"\n",
    "    menu_item = input(\n",
    "                    'Создать файл - 1:\\n'\n",
    "                    'Создать папку - 2:\\n'\n",
    "                    'Удалить файл  - 3\\n'\n",
    "                    'Удалить папку  - 4\\n'\n",
    "                    'Переместить файл или папку - 5\\n'\n",
    "                    'Скопировать - 6\\n'\n",
    "                    'Для выхода из программы введите-Q\\n'\n",
    "                )\n",
    "    menu_item = menu_item.upper()\n",
    "    return menu_item\n",
    "\n",
    "#Функция для возврата пути\n",
    "def get_path(description):\n",
    "    path = input(f'{description}: \\n')\n",
    "    return path\n",
    "\n",
    "#Функция для проверки наличия файла папки\n",
    "def check_exists(path, type_check):\n",
    "    if type_check == 'folder':\n",
    "        check = os.path.isdir(path)\n",
    "    if type_check == 'file':\n",
    "        check = os.path.isfile(path)\n",
    "    return check\n",
    "\n",
    "#Функция для создания файла\n",
    "def create_file(path):\n",
    "    try:\n",
    "        if check_exists(path,'file'):\n",
    "            query = input('\\nТакой файл уже существует, перезаписать?(y/n)\\n')\n",
    "            if query.lower() == 'y':\n",
    "                open(path, 'w')\n",
    "                print(f'\\nФайл перезаписан:{path}')\n",
    "        else:\n",
    "            open(path, 'w')\n",
    "            print(f'\\nФайл создан:{path}')\n",
    "    except Exception as err:\n",
    "        print(err)\n",
    "\n",
    "#Функция для создания папки\n",
    "def create_folder(path):\n",
    "    if check_exists(path,'folder'):\n",
    "        print('Такая папка уже существует!\\n')\n",
    "    else:\n",
    "        os.makedirs(path)\n",
    "        print(f'\\nПапка создана:{path}')\n",
    "\n",
    "#Функция для удаления файла\n",
    "def remove_file(path):\n",
    "    if check_exists(path,'file'):\n",
    "        os.remove(path)\n",
    "        print(f'\\nФайл удален:{path}')\n",
    "    else:\n",
    "        print(f'\\nФайл по указанному пути не существует!')\n",
    "\n",
    "#Функция для удаления папки\n",
    "def remove_folder(path):\n",
    "    if check_exists(path,'folder'):\n",
    "        os.rmdir(path)\n",
    "        print(f'\\nПапка удалена:{path}')\n",
    "    else:\n",
    "        print(f'\\nПапки по указанному пути не существует!')\n",
    "\n",
    "#Функция для перемещения файла или папки\n",
    "def move_file_folder(src_path, trg_path):\n",
    "    try:\n",
    "        shutil.move(src_path, trg_path)\n",
    "    except Exception as err:\n",
    "        print(err)\n",
    "\n",
    "#Функция для копирования файла или папки\n",
    "def copy_file_folder(src_path, trg_path):\n",
    "    try:\n",
    "        shutil.copy(src_path, trg_path)\n",
    "    except Exception as err:\n",
    "        print(err)"
   ]
  },
  {
   "cell_type": "code",
   "execution_count": 2,
   "id": "2ed5f7f5",
   "metadata": {},
   "outputs": [
    {
     "name": "stdout",
     "output_type": "stream",
     "text": [
      "Создать файл - 1:\n",
      "Создать папку - 2:\n",
      "Удалить файл  - 3\n",
      "Удалить папку  - 4\n",
      "Переместить файл или папку - 5\n",
      "Скопировать - 6\n",
      "Для выхода из программы введите-Q\n",
      "1\n"
     ]
    },
    {
     "data": {
      "text/plain": [
       "'1'"
      ]
     },
     "execution_count": 2,
     "metadata": {},
     "output_type": "execute_result"
    }
   ],
   "source": [
    "main_menu()"
   ]
  },
  {
   "cell_type": "code",
   "execution_count": null,
   "id": "35036ad8",
   "metadata": {},
   "outputs": [],
   "source": []
  }
 ],
 "metadata": {
  "kernelspec": {
   "display_name": "Python 3 (ipykernel)",
   "language": "python",
   "name": "python3"
  },
  "language_info": {
   "codemirror_mode": {
    "name": "ipython",
    "version": 3
   },
   "file_extension": ".py",
   "mimetype": "text/x-python",
   "name": "python",
   "nbconvert_exporter": "python",
   "pygments_lexer": "ipython3",
   "version": "3.11.5"
  }
 },
 "nbformat": 4,
 "nbformat_minor": 5
}
